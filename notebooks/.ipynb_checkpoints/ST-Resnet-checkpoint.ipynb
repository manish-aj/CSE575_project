{
 "cells": [
  {
   "cell_type": "raw",
   "metadata": {},
   "source": [
    "import sys\n",
    "import tensorflow as tf\n",
    "import numpy as np\n",
    "from keras import layers\n",
    "from keras.utils.vis_utils import plot_model\n",
    "from keras.models import Model\n",
    "from keras.layers import Input, Reshape, Add, Dense, Lambda ,Activation, ZeroPadding2D, BatchNormalization, Flatten, Conv2D, AveragePooling2D, MaxPooling2D, GlobalMaxPooling2D\n",
    "\n",
    "from keras import backend\n",
    "from keras.engine.topology import Layer\n",
    "import glob"
   ]
  },
  {
   "cell_type": "raw",
   "metadata": {},
   "source": [
    "class CustomLayer(Layer):\n",
    "    def __init__(self, **kwargs):\n",
    "        super(CustomLayer, self).__init__(**kwargs)\n",
    "        \n",
    "    def build(self, input_shape):\n",
    "        self.kernel = self.add_weight(name='kernel', shape=input_shape[1:], initializer='uniform', trainable=True)\n",
    "        super(CustomLayer, self).build(input_shape)\n",
    "        \n",
    "    def call(self, x):\n",
    "        y = x*self.kernel\n",
    "        return y\n",
    "    \n",
    "    def compute_output_shape(self, input_shape):\n",
    "        return input_shape"
   ]
  },
  {
   "cell_type": "raw",
   "metadata": {},
   "source": [
    "def res_unit(X, n_filters, kernel_size):\n",
    "    X_shortcut = X\n",
    "    \n",
    "    X = BatchNormalization()(X)\n",
    "    X = Activation('relu')(X)\n",
    "    X = Conv2D(n_filters, kernel_size, padding=\"same\")(X)\n",
    "    \n",
    "    X = BatchNormalization()(X)\n",
    "    X = Activation('relu')(X)\n",
    "    X = Conv2D(n_filters, kernel_size, padding=\"same\")(X)\n",
    "    \n",
    "    X = Add()([X,X_shortcut])\n",
    "    \n",
    "    return X"
   ]
  },
  {
   "cell_type": "raw",
   "metadata": {},
   "source": [
    "def res_start(X, n_filters, kernel_size):\n",
    "    X = Conv2D(n_filters, kernel_size, padding = \"same\")(X)\n",
    "    return X"
   ]
  },
  {
   "cell_type": "raw",
   "metadata": {},
   "source": [
    "def res_end(X, n_filters, kernel_size):\n",
    "    X = Conv2D(n_filters, kernel_size, padding = \"same\")(X)\n",
    "    return X"
   ]
  },
  {
   "cell_type": "raw",
   "metadata": {},
   "source": [
    "# def res_net(input_shape, n_res_units, n_filters, kernel_size):\n",
    "#     X_input = Input(input_shape)\n",
    "#     X = res_start(X_input, n_filters, kernel_size)\n",
    "    \n",
    "#     for i in range(n_res_units):\n",
    "#         X = res_unit(X, n_filters, kernel_size)\n",
    "    \n",
    "#     output = res_end(X, 1, kernel_size)\n",
    "# #     output = CustomLayer()([output])\n",
    "# #     output = Activation('tanh')(output)\n",
    "    \n",
    "#     model = Model(X_input, output, name='res_net')\n",
    "# #     model.compile(optimizer='adam', loss='mean_squared_error', metrics= ['accuracy'])\n",
    "#     return model"
   ]
  },
  {
   "cell_type": "raw",
   "metadata": {},
   "source": [
    "def res_net(input_shape, n_res_units, n_filters, kernel_size):\n",
    "    X_input = Input(input_shape)\n",
    "    X = res_start(X_input, n_filters, kernel_size)\n",
    "    \n",
    "    for i in range(n_res_units):\n",
    "        X = res_unit(X, n_filters, kernel_size)\n",
    "    \n",
    "    output = res_end(X, 2, kernel_size)\n",
    "#     output = CustomLayer()([output])\n",
    "#     output = Activation('tanh')(output)\n",
    "    \n",
    "    model = Model(X_input, output, name='res_net')\n",
    "#     model.compile(optimizer='adam', loss='mean_squared_error', metrics= ['accuracy'])\n",
    "    return model"
   ]
  },
  {
   "cell_type": "raw",
   "metadata": {},
   "source": [
    "model = res_net((75,75,12), 20, 64, (7,7))"
   ]
  },
  {
   "cell_type": "raw",
   "metadata": {
    "collapsed": true
   },
   "source": [
    "model.summary()"
   ]
  },
  {
   "cell_type": "raw",
   "metadata": {},
   "source": [
    "def st_resnet(input_shape, n_res_units, n_filters, kernel_size):\n",
    "    closeness_model = res_net((input_shape[0],input_shape[1], input_shape[2]//3), n_res_units, n_filters, kernel_size)\n",
    "    period_model = res_net((input_shape[0],input_shape[1], input_shape[2]//3), n_res_units, n_filters, kernel_size)\n",
    "    trend_model =  res_net((input_shape[0],input_shape[1], input_shape[2]//3), n_res_units, n_filters, kernel_size)\n",
    "        \n",
    "    fused_output = Add()([CustomLayer()([closeness_model.output]), CustomLayer()([period_model.output]), CustomLayer()([trend_model.output])])\n",
    "    \n",
    "    output = Activation('tanh')(fused_output)\n",
    "    \n",
    "#     scaled_output = Lambda(lambda x:)\n",
    "    \n",
    "#     print(closeness_model.input)\n",
    "    \n",
    "    st_resnet_model = Model([closeness_model.input, period_model.input, trend_model.input], output, name = \"st_resnet\")\n",
    "    return st_resnet_model"
   ]
  },
  {
   "cell_type": "raw",
   "metadata": {},
   "source": [
    "model = st_resnet((75,75, 12), 2, 64, (7,7))"
   ]
  },
  {
   "cell_type": "raw",
   "metadata": {
    "collapsed": true
   },
   "source": [
    "model.summary()"
   ]
  },
  {
   "cell_type": "raw",
   "metadata": {},
   "source": [
    "plot_model(model, show_shapes=True)"
   ]
  },
  {
   "cell_type": "raw",
   "metadata": {},
   "source": [
    "from sklearn.preprocessing import MinMaxScaler"
   ]
  },
  {
   "cell_type": "raw",
   "metadata": {},
   "source": [
    "x = np.random.random(size=(3, 2, 2, 1))"
   ]
  },
  {
   "cell_type": "raw",
   "metadata": {},
   "source": [
    "x.shape"
   ]
  },
  {
   "cell_type": "raw",
   "metadata": {},
   "source": [
    "scaler = MinMaxScaler()"
   ]
  },
  {
   "cell_type": "raw",
   "metadata": {
    "collapsed": true
   },
   "source": [
    "y = x.reshape((3,4))"
   ]
  },
  {
   "cell_type": "raw",
   "metadata": {},
   "source": [
    "y"
   ]
  },
  {
   "cell_type": "raw",
   "metadata": {},
   "source": [
    "x"
   ]
  },
  {
   "cell_type": "raw",
   "metadata": {},
   "source": [
    "scaler.fit_transform(y)"
   ]
  },
  {
   "cell_type": "raw",
   "metadata": {},
   "source": [
    "scaler.data_max_"
   ]
  },
  {
   "cell_type": "raw",
   "metadata": {},
   "source": [
    "z = np.random.random(size=(2, 2, 1))\n",
    "z"
   ]
  },
  {
   "cell_type": "raw",
   "metadata": {},
   "source": [
    "z = z.reshape((1,4))\n",
    "z"
   ]
  },
  {
   "cell_type": "raw",
   "metadata": {},
   "source": [
    "a = scaler.transform(z)\n",
    "a"
   ]
  },
  {
   "cell_type": "raw",
   "metadata": {},
   "source": [
    "a.reshape((2,2,1))"
   ]
  },
  {
   "cell_type": "raw",
   "metadata": {},
   "source": [
    "x=np.loadtxt(\"../preprocessing/results_original/start/20090101010000.txt\",delimiter=',')"
   ]
  },
  {
   "cell_type": "raw",
   "metadata": {},
   "source": [
    "scaler.data_min_"
   ]
  },
  {
   "cell_type": "raw",
   "metadata": {},
   "source": [
    "scaler.inverse_transform(a)"
   ]
  },
  {
   "cell_type": "raw",
   "metadata": {},
   "source": [
    "a *scaler.data_range_ +  scaler.data_min_"
   ]
  },
  {
   "cell_type": "raw",
   "metadata": {},
   "source": [
    "def st_resnet(input_shape, n_res_units, n_filters, kernel_size, scaler, mini, maxi):\n",
    "    \n",
    "    closeness_model = res_net((input_shape[0],input_shape[1], input_shape[2]//3), n_res_units, n_filters, kernel_size)\n",
    "    period_model = res_net((input_shape[0],input_shape[1], input_shape[2]//3), n_res_units, n_filters, kernel_size)\n",
    "    trend_model =  res_net((input_shape[0],input_shape[1], input_shape[2]//3), n_res_units, n_filters, kernel_size)\n",
    "        \n",
    "    fused_output = Add()([CustomLayer()([closeness_model.output]), CustomLayer()([period_model.output]), CustomLayer()([trend_model.output])])\n",
    "    \n",
    "    output = Activation('tanh')(fused_output)\n",
    "    \n",
    "#     output1 = output[:,:,:,:,0]\n",
    "#     output2 = output[:,:,:,:,1]\n",
    "    \n",
    "#     o_shape = output.shape\n",
    "#     print(o_shape)\n",
    "    \n",
    "# #     output1 = tf.reshape(output1,[1, o_shape[2]*o_shape[3]])\n",
    "# #     output2 = tf.reshape(output2,[1, o_shape[2]*o_shape[3]])\n",
    "\n",
    "# #     output = Lambda(lambda x: tf.reshape(x,[2, o_shape[2]*o_shape[3]]))(output)\n",
    "    \n",
    "#     output = Reshape((2, o_shape[2]*o_shape[3]))(output)\n",
    "    \n",
    "#     print(output.shape)\n",
    "        \n",
    "#     def scale(x):\n",
    "#         return x*(scaler.data_range_) + scaler.data_min_\n",
    "\n",
    "    \n",
    "#     output = Lambda(scale)(output)\n",
    "    \n",
    "# #     output = Lambda(lambda x: tf.reshape(x,[o_shape[2],o_shape[3],2]))(output)\n",
    "    \n",
    "#     output = Reshape((o_shape[2],o_shape[3],2))(output)\n",
    "    \n",
    "#     print(output.shape)\n",
    "    \n",
    "    #Scaling tanH output to training data's distribution\n",
    "    def scale(x):\n",
    "        return x*(maxi-mini) + mini\n",
    "    \n",
    "    def scale_range(x):\n",
    "        return ((x+1)*(maxi-mini)/2)+mini\n",
    "    \n",
    "#     print(maxi, mini)\n",
    "    \n",
    "    output = Lambda(scale_range)(output)\n",
    "    \n",
    "    st_resnet_model = Model([closeness_model.input, period_model.input, trend_model.input], output, name = \"st_resnet\")\n",
    "    return st_resnet_model"
   ]
  },
  {
   "cell_type": "raw",
   "metadata": {},
   "source": [
    "# x = np.random.random(size = (100, 75*75))\n",
    "\n",
    "# x_closeness = np.random.random(size=(100, 75, 75, 4))\n",
    "# y_closeness = np.random.random(size=(100, 75,75,2))\n",
    "\n",
    "# scaler.fit(x)\n",
    "mini = np.random.randint(0, 300, (100, 75,75,2))\n",
    "model = st_resnet((75,75, 12), 2, 64, (7,7),scaler,np.min(mini, axis=0), np.max(mini, axis=0) )"
   ]
  },
  {
   "cell_type": "raw",
   "metadata": {},
   "source": [
    "model.summary()"
   ]
  },
  {
   "cell_type": "raw",
   "metadata": {},
   "source": [
    "plot_model(model, show_shapes=True)"
   ]
  },
  {
   "cell_type": "raw",
   "metadata": {},
   "source": [
    "model.compile(optimizer='adam', loss='mean_squared_error', metrics= ['accuracy'])"
   ]
  },
  {
   "cell_type": "raw",
   "metadata": {},
   "source": [
    "x_closeness = np.random.randint(0, 300,size=(100, 75, 75, 4))\n",
    "x_period = np.random.randint(0,300,size=(100, 75, 75, 4))\n",
    "x_trend = np.random.randint(0,300, size=(100, 75, 75, 4))"
   ]
  },
  {
   "cell_type": "raw",
   "metadata": {},
   "source": [
    "y_closeness = np.random.random(size=(100, 75,75,2))"
   ]
  },
  {
   "cell_type": "raw",
   "metadata": {},
   "source": [
    "mini = np.random.randint(0, 300, (100, 75,75,2))"
   ]
  },
  {
   "cell_type": "raw",
   "metadata": {},
   "source": [
    "model.fit([x_closeness,x_period,x_trend], mini, epochs = 1, batch_size = 32, verbose = 2)"
   ]
  },
  {
   "cell_type": "raw",
   "metadata": {},
   "source": [
    "x_closeness = np.random.randint(0, 300,size=(1, 75, 75, 4))\n",
    "y = model.predict([x_closeness,x_closeness,x_closeness])"
   ]
  },
  {
   "cell_type": "raw",
   "metadata": {},
   "source": [
    "model.fit([x_closeness,x_period,x_trend], mini, epochs = 1, batch_size = 32, verbose = 2)"
   ]
  },
  {
   "cell_type": "raw",
   "metadata": {},
   "source": [
    "x_closeness = np.random.randint(0, 300,size=(1, 75, 75, 4))\n",
    "m = model.predict([x_closeness,x_closeness,x_closeness])"
   ]
  },
  {
   "cell_type": "raw",
   "metadata": {},
   "source": [
    "m.min()"
   ]
  },
  {
   "cell_type": "raw",
   "metadata": {},
   "source": [
    "y"
   ]
  },
  {
   "cell_type": "raw",
   "metadata": {},
   "source": [
    "import glob"
   ]
  },
  {
   "cell_type": "raw",
   "metadata": {},
   "source": [
    "files = []\n",
    "for filename in glob.glob(\"../preprocessing/results_original/start/*.txt\"):\n",
    "    files.append(filename)\n",
    "    \n",
    "files = sorted(files)\n",
    "\n",
    "starts = []\n",
    "for filename in files:\n",
    "    starts.append(np.loadtxt(filename, delimiter=\",\"))\n",
    "\n",
    "start_array = np.array(starts)"
   ]
  },
  {
   "cell_type": "raw",
   "metadata": {},
   "source": [
    "files = []\n",
    "for filename in glob.glob(\"../preprocessing/results_original/end/*.txt\"):\n",
    "    files.append(filename)\n",
    "    \n",
    "files = sorted(files)\n",
    "\n",
    "ends = []\n",
    "for filename in files:\n",
    "    ends.append(np.loadtxt(filename, delimiter=\",\"))\n",
    "\n",
    "end_array = np.array(ends)"
   ]
  },
  {
   "cell_type": "raw",
   "metadata": {},
   "source": [
    "data = np.concatenate((start_array, end_array), axis=3)"
   ]
  },
  {
   "cell_type": "raw",
   "metadata": {},
   "source": [
    "def get_training_data(data, sequence_length, trend_gap, period_gap, closeness_gap):\n",
    "    \n",
    "    training_data_x = []\n",
    "    \n",
    "    training_data_y = []\n",
    "    di = 0\n",
    "    ni = 0\n",
    "    ri = 0\n",
    "    while((di+(trend_gap*sequence_length)+(period_gap*sequence_length) + (closeness_gap*sequence_length))<len(data)):\n",
    "#         print(\"condition: \"+str(di+(trend_gap*sequence_length)+(period_gap*sequence_length) + (closeness_gap*sequence_length)))\n",
    "        distant = None\n",
    "        near = None\n",
    "        recent = None\n",
    "        di_old = di\n",
    "        for i in range(sequence_length):\n",
    "#             print(\"di: \", di)\n",
    "            if(distant is None):\n",
    "                distant = data[di]\n",
    "            else:\n",
    "                distant = np.concatenate((distant, data[di]), axis = 2)\n",
    "#             distant.append(data[di])\n",
    "            di+=trend_gap\n",
    "            \n",
    "        ni = di-trend_gap+period_gap\n",
    "        for i in range(sequence_length):\n",
    "#             print(\"ni: \", ni)\n",
    "            if(near is None):\n",
    "                near = data[ni]\n",
    "            else:\n",
    "                near = np.concatenate((near, data[ni]), axis = 2)\n",
    "#             near.append(data[ni])\n",
    "            ni+=period_gap\n",
    "            \n",
    "        ri = ni-period_gap + closeness_gap\n",
    "        for i in range(sequence_length):\n",
    "#             print(\"ri: \", ri)\n",
    "            \n",
    "            if(recent is None):\n",
    "                recent = data[di]\n",
    "            else:\n",
    "                recent = np.concatenate((recent, data[ri]), axis = 2) \n",
    "#             recent.append(data[di])\n",
    "            ri+=closeness_gap\n",
    "            \n",
    "#         distant = np.array(distant)\n",
    "#         print(distant.shape)\n",
    "        \n",
    "        training_point = np.concatenate((distant,near,recent), axis=2)\n",
    "#         print(training_point.shape)\n",
    "        shape = training_point.shape\n",
    "#         training_point = training_point.reshape((shape[1], shape[2], shape[0]*shape[3]))\n",
    "#         print(training_point.shape)\n",
    "        training_data_x.append(training_point)\n",
    "        training_data_y.append(data[ri])\n",
    "        di = di_old + 1\n",
    "        \n",
    "    return np.array(training_data_x), np.array(training_data_y)"
   ]
  },
  {
   "cell_type": "raw",
   "metadata": {},
   "source": [
    "X_t, Y_t = get_training_data(data, 2, 4, 2, 1)"
   ]
  },
  {
   "cell_type": "raw",
   "metadata": {},
   "source": [
    "X_t.shape"
   ]
  },
  {
   "cell_type": "raw",
   "metadata": {},
   "source": [
    "Y_t.shape"
   ]
  },
  {
   "cell_type": "raw",
   "metadata": {},
   "source": [
    "X_t[:,:,:,:4].shape"
   ]
  },
  {
   "cell_type": "raw",
   "metadata": {},
   "source": []
  },
  {
   "cell_type": "raw",
   "metadata": {},
   "source": [
    "sequence_length = 4\n",
    "\n",
    "X_t, Y_t = get_training_data(data, sequence_length, 4, 2, 1)\n",
    "x_closeness = X_t[:,:,:,:sequence_length*2]\n",
    "x_period = X_t[:,:,:,sequence_length*2:2*sequence_length*2]\n",
    "x_trend = X_t[:,:,:,2*sequence_length*2:]\n",
    "\n",
    "model = st_resnet((32,32, 6*sequence_length), 12, 64, (3,3),scaler,np.min(Y_t, axis=0), np.max(Y_t, axis=0) )\n",
    "model.compile(optimizer='adam', loss='mean_squared_error', metrics= ['accuracy'])"
   ]
  },
  {
   "cell_type": "raw",
   "metadata": {},
   "source": [
    "model.fit([x_closeness,x_period,x_trend], Y_t, epochs = 1, batch_size = 32, verbose = 2)"
   ]
  },
  {
   "cell_type": "raw",
   "metadata": {},
   "source": [
    "p = model.predict([np.array([X_t[5,:,:,:sequence_length*2]]), np.array([X_t[5,:,:,sequence_length*2:2*sequence_length*2]]),np.array([X_t[5,:,:,2*sequence_length*2:]])])"
   ]
  },
  {
   "cell_type": "raw",
   "metadata": {},
   "source": [
    "np.save(\"test\",p)"
   ]
  },
  {
   "cell_type": "raw",
   "metadata": {},
   "source": [
    "plot_model(model, show_shapes=True)"
   ]
  },
  {
   "cell_type": "raw",
   "metadata": {},
   "source": [
    "q = p.reshape((32,32,2))"
   ]
  },
  {
   "cell_type": "raw",
   "metadata": {},
   "source": [
    "q_in = q[:,:,0]\n",
    "q_out = q[:,:,1]"
   ]
  },
  {
   "cell_type": "raw",
   "metadata": {},
   "source": [
    "import seaborn as sns; \n",
    "sns.set()\n",
    "\n",
    "ax = sns.heatmap(q_in, cmap = \"RdYlGn_r\")\n",
    "# ax = sns.heatmap(q_out, cmap = \"RdYlGn_r\")"
   ]
  },
  {
   "cell_type": "raw",
   "metadata": {},
   "source": [
    "y_5_in = Y_t[5,:,:,0]\n",
    "y_5_out = Y_t[5,:,:,1]"
   ]
  },
  {
   "cell_type": "raw",
   "metadata": {},
   "source": [
    "sns.set()\n",
    "\n",
    "ax = sns.heatmap(y_5_in, cmap = \"RdYlGn_r\")\n",
    "# ax = sns.heatmap(y_5_out, cmap = \"RdYlGn_r\")"
   ]
  },
  {
   "cell_type": "raw",
   "metadata": {},
   "source": []
  },
  {
   "cell_type": "raw",
   "metadata": {},
   "source": []
  },
  {
   "cell_type": "raw",
   "metadata": {},
   "source": []
  },
  {
   "cell_type": "raw",
   "metadata": {},
   "source": []
  },
  {
   "cell_type": "raw",
   "metadata": {},
   "source": []
  },
  {
   "cell_type": "raw",
   "metadata": {},
   "source": []
  },
  {
   "cell_type": "raw",
   "metadata": {},
   "source": []
  },
  {
   "cell_type": "raw",
   "metadata": {},
   "source": []
  },
  {
   "cell_type": "raw",
   "metadata": {},
   "source": []
  },
  {
   "cell_type": "raw",
   "metadata": {},
   "source": []
  },
  {
   "cell_type": "raw",
   "metadata": {},
   "source": []
  },
  {
   "cell_type": "raw",
   "metadata": {},
   "source": []
  },
  {
   "cell_type": "raw",
   "metadata": {},
   "source": []
  },
  {
   "cell_type": "raw",
   "metadata": {},
   "source": [
    "k = np.random.random((9,32,32,2))"
   ]
  },
  {
   "cell_type": "raw",
   "metadata": {},
   "source": [
    "k = k.reshape((32,32,18))"
   ]
  },
  {
   "cell_type": "raw",
   "metadata": {},
   "source": [
    "k.shape"
   ]
  },
  {
   "cell_type": "raw",
   "metadata": {},
   "source": [
    "(3,2,2,4)"
   ]
  },
  {
   "cell_type": "raw",
   "metadata": {},
   "source": [
    "np.arange(0,5, shape=(2,4))"
   ]
  },
  {
   "cell_type": "raw",
   "metadata": {},
   "source": [
    "l = np.arange(0,48)"
   ]
  },
  {
   "cell_type": "raw",
   "metadata": {},
   "source": [
    "l = l.reshape((3,4,2,2))\n",
    "l"
   ]
  },
  {
   "cell_type": "raw",
   "metadata": {},
   "source": [
    "l.reshape(4,2,2,3)"
   ]
  },
  {
   "cell_type": "raw",
   "metadata": {},
   "source": [
    "a = np.arange(0,9)\n",
    "a = a.reshape((3,3))"
   ]
  },
  {
   "cell_type": "raw",
   "metadata": {},
   "source": [
    "b = np.arange(9,18)\n",
    "b = b.reshape((3,3))"
   ]
  },
  {
   "cell_type": "raw",
   "metadata": {},
   "source": [
    "a = a.reshape(a.shape+tuple([1]))"
   ]
  },
  {
   "cell_type": "raw",
   "metadata": {},
   "source": [
    "b = b.reshape(b.shape+tuple([1]))"
   ]
  },
  {
   "cell_type": "raw",
   "metadata": {},
   "source": [
    "x = np.concatenate((a,b), axis=2)"
   ]
  },
  {
   "cell_type": "raw",
   "metadata": {},
   "source": [
    "x.shape"
   ]
  },
  {
   "cell_type": "raw",
   "metadata": {},
   "source": []
  },
  {
   "cell_type": "raw",
   "metadata": {},
   "source": []
  },
  {
   "cell_type": "markdown",
   "metadata": {},
   "source": [
    "# New Beginning"
   ]
  },
  {
   "cell_type": "code",
   "execution_count": 1,
   "metadata": {},
   "outputs": [
    {
     "name": "stderr",
     "output_type": "stream",
     "text": [
      "C:\\Users\\arpit\\.conda\\envs\\SMLProject\\lib\\site-packages\\tensorflow\\python\\framework\\dtypes.py:516: FutureWarning: Passing (type, 1) or '1type' as a synonym of type is deprecated; in a future version of numpy, it will be understood as (type, (1,)) / '(1,)type'.\n",
      "  _np_qint8 = np.dtype([(\"qint8\", np.int8, 1)])\n",
      "C:\\Users\\arpit\\.conda\\envs\\SMLProject\\lib\\site-packages\\tensorflow\\python\\framework\\dtypes.py:517: FutureWarning: Passing (type, 1) or '1type' as a synonym of type is deprecated; in a future version of numpy, it will be understood as (type, (1,)) / '(1,)type'.\n",
      "  _np_quint8 = np.dtype([(\"quint8\", np.uint8, 1)])\n",
      "C:\\Users\\arpit\\.conda\\envs\\SMLProject\\lib\\site-packages\\tensorflow\\python\\framework\\dtypes.py:518: FutureWarning: Passing (type, 1) or '1type' as a synonym of type is deprecated; in a future version of numpy, it will be understood as (type, (1,)) / '(1,)type'.\n",
      "  _np_qint16 = np.dtype([(\"qint16\", np.int16, 1)])\n",
      "C:\\Users\\arpit\\.conda\\envs\\SMLProject\\lib\\site-packages\\tensorflow\\python\\framework\\dtypes.py:519: FutureWarning: Passing (type, 1) or '1type' as a synonym of type is deprecated; in a future version of numpy, it will be understood as (type, (1,)) / '(1,)type'.\n",
      "  _np_quint16 = np.dtype([(\"quint16\", np.uint16, 1)])\n",
      "C:\\Users\\arpit\\.conda\\envs\\SMLProject\\lib\\site-packages\\tensorflow\\python\\framework\\dtypes.py:520: FutureWarning: Passing (type, 1) or '1type' as a synonym of type is deprecated; in a future version of numpy, it will be understood as (type, (1,)) / '(1,)type'.\n",
      "  _np_qint32 = np.dtype([(\"qint32\", np.int32, 1)])\n",
      "C:\\Users\\arpit\\.conda\\envs\\SMLProject\\lib\\site-packages\\tensorflow\\python\\framework\\dtypes.py:525: FutureWarning: Passing (type, 1) or '1type' as a synonym of type is deprecated; in a future version of numpy, it will be understood as (type, (1,)) / '(1,)type'.\n",
      "  np_resource = np.dtype([(\"resource\", np.ubyte, 1)])\n",
      "C:\\Users\\arpit\\.conda\\envs\\SMLProject\\lib\\site-packages\\tensorboard\\compat\\tensorflow_stub\\dtypes.py:541: FutureWarning: Passing (type, 1) or '1type' as a synonym of type is deprecated; in a future version of numpy, it will be understood as (type, (1,)) / '(1,)type'.\n",
      "  _np_qint8 = np.dtype([(\"qint8\", np.int8, 1)])\n",
      "C:\\Users\\arpit\\.conda\\envs\\SMLProject\\lib\\site-packages\\tensorboard\\compat\\tensorflow_stub\\dtypes.py:542: FutureWarning: Passing (type, 1) or '1type' as a synonym of type is deprecated; in a future version of numpy, it will be understood as (type, (1,)) / '(1,)type'.\n",
      "  _np_quint8 = np.dtype([(\"quint8\", np.uint8, 1)])\n",
      "C:\\Users\\arpit\\.conda\\envs\\SMLProject\\lib\\site-packages\\tensorboard\\compat\\tensorflow_stub\\dtypes.py:543: FutureWarning: Passing (type, 1) or '1type' as a synonym of type is deprecated; in a future version of numpy, it will be understood as (type, (1,)) / '(1,)type'.\n",
      "  _np_qint16 = np.dtype([(\"qint16\", np.int16, 1)])\n",
      "C:\\Users\\arpit\\.conda\\envs\\SMLProject\\lib\\site-packages\\tensorboard\\compat\\tensorflow_stub\\dtypes.py:544: FutureWarning: Passing (type, 1) or '1type' as a synonym of type is deprecated; in a future version of numpy, it will be understood as (type, (1,)) / '(1,)type'.\n",
      "  _np_quint16 = np.dtype([(\"quint16\", np.uint16, 1)])\n",
      "C:\\Users\\arpit\\.conda\\envs\\SMLProject\\lib\\site-packages\\tensorboard\\compat\\tensorflow_stub\\dtypes.py:545: FutureWarning: Passing (type, 1) or '1type' as a synonym of type is deprecated; in a future version of numpy, it will be understood as (type, (1,)) / '(1,)type'.\n",
      "  _np_qint32 = np.dtype([(\"qint32\", np.int32, 1)])\n",
      "C:\\Users\\arpit\\.conda\\envs\\SMLProject\\lib\\site-packages\\tensorboard\\compat\\tensorflow_stub\\dtypes.py:550: FutureWarning: Passing (type, 1) or '1type' as a synonym of type is deprecated; in a future version of numpy, it will be understood as (type, (1,)) / '(1,)type'.\n",
      "  np_resource = np.dtype([(\"resource\", np.ubyte, 1)])\n",
      "Using TensorFlow backend.\n"
     ]
    }
   ],
   "source": [
    "import sys\n",
    "import tensorflow as tf\n",
    "import numpy as np\n",
    "from keras import layers\n",
    "from keras.utils.vis_utils import plot_model\n",
    "from keras.models import Model\n",
    "from keras.layers import Input, Reshape, Add, Dense, Lambda ,Activation, ZeroPadding2D, BatchNormalization, Flatten, Conv2D, AveragePooling2D, MaxPooling2D, GlobalMaxPooling2D\n",
    "\n",
    "from keras import backend\n",
    "from keras.engine.topology import Layer\n",
    "import glob"
   ]
  },
  {
   "cell_type": "code",
   "execution_count": 2,
   "metadata": {},
   "outputs": [],
   "source": [
    "class CustomLayer(Layer):\n",
    "    def __init__(self, **kwargs):\n",
    "        super(CustomLayer, self).__init__(**kwargs)\n",
    "        \n",
    "    def build(self, input_shape):\n",
    "        self.kernel = self.add_weight(name='kernel', shape=input_shape[1:], initializer='uniform', trainable=True)\n",
    "        super(CustomLayer, self).build(input_shape)\n",
    "        \n",
    "    def call(self, x):\n",
    "        y = x*self.kernel\n",
    "        return y\n",
    "    \n",
    "    def compute_output_shape(self, input_shape):\n",
    "        return input_shape"
   ]
  },
  {
   "cell_type": "code",
   "execution_count": 3,
   "metadata": {},
   "outputs": [],
   "source": [
    "def res_unit(X, n_filters, kernel_size):\n",
    "    X_shortcut = X\n",
    "    \n",
    "    X = BatchNormalization()(X)\n",
    "    X = Activation('relu')(X)\n",
    "    X = Conv2D(n_filters, kernel_size, padding=\"same\")(X)\n",
    "    \n",
    "    X = BatchNormalization()(X)\n",
    "    X = Activation('relu')(X)\n",
    "    X = Conv2D(n_filters, kernel_size, padding=\"same\")(X)\n",
    "    \n",
    "    X = Add()([X,X_shortcut])\n",
    "    \n",
    "    return X"
   ]
  },
  {
   "cell_type": "code",
   "execution_count": 4,
   "metadata": {},
   "outputs": [],
   "source": [
    "def res_start(X, n_filters, kernel_size):\n",
    "    X = Conv2D(n_filters, kernel_size, padding = \"same\")(X)\n",
    "    return X"
   ]
  },
  {
   "cell_type": "code",
   "execution_count": 5,
   "metadata": {},
   "outputs": [],
   "source": [
    "def res_end(X, n_filters, kernel_size):\n",
    "    X = Conv2D(n_filters, kernel_size, padding = \"same\")(X)\n",
    "    return X"
   ]
  },
  {
   "cell_type": "code",
   "execution_count": 6,
   "metadata": {},
   "outputs": [],
   "source": [
    "def res_net(input_shape, n_res_units, n_filters, kernel_size):\n",
    "    X_input = Input(input_shape)\n",
    "    X = res_start(X_input, n_filters, kernel_size)\n",
    "    \n",
    "    for i in range(n_res_units):\n",
    "        X = res_unit(X, n_filters, kernel_size)\n",
    "    \n",
    "    output = res_end(X, 2, kernel_size)\n",
    "#     output = CustomLayer()([output])\n",
    "#     output = Activation('tanh')(output)\n",
    "    \n",
    "    model = Model(X_input, output, name='res_net')\n",
    "#     model.compile(optimizer='adam', loss='mean_squared_error', metrics= ['accuracy'])\n",
    "    return model"
   ]
  },
  {
   "cell_type": "code",
   "execution_count": 7,
   "metadata": {},
   "outputs": [],
   "source": [
    "def st_resnet(input_shape, n_res_units, n_filters, kernel_size, mini, maxi):\n",
    "    \n",
    "    closeness_model = res_net((input_shape[0],input_shape[1], input_shape[2]//3), n_res_units, n_filters, kernel_size)\n",
    "    period_model = res_net((input_shape[0],input_shape[1], input_shape[2]//3), n_res_units, n_filters, kernel_size)\n",
    "    trend_model =  res_net((input_shape[0],input_shape[1], input_shape[2]//3), n_res_units, n_filters, kernel_size)\n",
    "        \n",
    "    fused_output = Add()([CustomLayer()([closeness_model.output]), CustomLayer()([period_model.output]), CustomLayer()([trend_model.output])])\n",
    "    \n",
    "    output = Activation('tanh')(fused_output)\n",
    "    \n",
    "#     output1 = output[:,:,:,:,0]\n",
    "#     output2 = output[:,:,:,:,1]\n",
    "    \n",
    "#     o_shape = output.shape\n",
    "#     print(o_shape)\n",
    "    \n",
    "# #     output1 = tf.reshape(output1,[1, o_shape[2]*o_shape[3]])\n",
    "# #     output2 = tf.reshape(output2,[1, o_shape[2]*o_shape[3]])\n",
    "\n",
    "# #     output = Lambda(lambda x: tf.reshape(x,[2, o_shape[2]*o_shape[3]]))(output)\n",
    "    \n",
    "#     output = Reshape((2, o_shape[2]*o_shape[3]))(output)\n",
    "    \n",
    "#     print(output.shape)\n",
    "        \n",
    "#     def scale(x):\n",
    "#         return x*(scaler.data_range_) + scaler.data_min_\n",
    "\n",
    "    \n",
    "#     output = Lambda(scale)(output)\n",
    "    \n",
    "# #     output = Lambda(lambda x: tf.reshape(x,[o_shape[2],o_shape[3],2]))(output)\n",
    "    \n",
    "#     output = Reshape((o_shape[2],o_shape[3],2))(output)\n",
    "    \n",
    "#     print(output.shape)\n",
    "    \n",
    "    #Scaling tanH output to training data's distribution\n",
    "    \n",
    "    def scale(x):\n",
    "        return x*(maxi-mini) + mini\n",
    "    \n",
    "    def scale_range(x):\n",
    "        return ((x+1)*(maxi-mini)/2)+mini\n",
    "    \n",
    "#     print(maxi, mini)\n",
    "    \n",
    "    output = Lambda(scale_range)(output)\n",
    "    \n",
    "    st_resnet_model = Model([closeness_model.input, period_model.input, trend_model.input], output, name = \"st_resnet\")\n",
    "    return st_resnet_model"
   ]
  },
  {
   "cell_type": "code",
   "execution_count": 8,
   "metadata": {},
   "outputs": [],
   "source": [
    "files = []\n",
    "for filename in glob.glob(\"../preprocessing/right_block/start/*.txt\"):\n",
    "    files.append(filename)\n",
    "    \n",
    "files = sorted(files)\n",
    "\n",
    "starts = []\n",
    "for filename in files:\n",
    "    starts.append(np.loadtxt(filename, delimiter=\",\"))\n",
    "\n",
    "start_array = np.array(starts)\n",
    "start_array = start_array.reshape(start_array.shape+tuple([1]))"
   ]
  },
  {
   "cell_type": "code",
   "execution_count": 9,
   "metadata": {},
   "outputs": [],
   "source": [
    "files = []\n",
    "for filename in glob.glob(\"../preprocessing/right_block/end/*.txt\"):\n",
    "    files.append(filename)\n",
    "    \n",
    "files = sorted(files)\n",
    "\n",
    "ends = []\n",
    "for filename in files:\n",
    "    ends.append(np.loadtxt(filename, delimiter=\",\"))\n",
    "\n",
    "end_array = np.array(ends)\n",
    "end_array = end_array.reshape(end_array.shape+tuple([1]))"
   ]
  },
  {
   "cell_type": "code",
   "execution_count": 10,
   "metadata": {},
   "outputs": [],
   "source": [
    "data = np.concatenate((start_array, end_array), axis=3)"
   ]
  },
  {
   "cell_type": "code",
   "execution_count": 11,
   "metadata": {},
   "outputs": [],
   "source": [
    "def get_training_data(data, sequence_length, trend_gap, period_gap, closeness_gap):\n",
    "    \n",
    "    training_data_x = []\n",
    "    \n",
    "    training_data_y = []\n",
    "    di = 0\n",
    "    ni = 0\n",
    "    ri = 0\n",
    "    while((di+(trend_gap*sequence_length)+(period_gap*sequence_length) + (closeness_gap*sequence_length))<len(data)):\n",
    "#         print(\"condition: \"+str(di+(trend_gap*sequence_length)+(period_gap*sequence_length) + (closeness_gap*sequence_length)))\n",
    "        distant = None\n",
    "        near = None\n",
    "        recent = None\n",
    "        di_old = di\n",
    "        for i in range(sequence_length):\n",
    "#             print(\"di: \", di)\n",
    "            if(distant is None):\n",
    "                distant = data[di]\n",
    "            else:\n",
    "                distant = np.concatenate((distant, data[di]), axis = 2)\n",
    "#             distant.append(data[di])\n",
    "            di+=trend_gap\n",
    "            \n",
    "        ni = di-trend_gap+period_gap\n",
    "        for i in range(sequence_length):\n",
    "#             print(\"ni: \", ni)\n",
    "            if(near is None):\n",
    "                near = data[ni]\n",
    "            else:\n",
    "                near = np.concatenate((near, data[ni]), axis = 2)\n",
    "#             near.append(data[ni])\n",
    "            ni+=period_gap\n",
    "            \n",
    "        ri = ni-period_gap + closeness_gap\n",
    "        for i in range(sequence_length):\n",
    "#             print(\"ri: \", ri)\n",
    "            \n",
    "            if(recent is None):\n",
    "                recent = data[di]\n",
    "            else:\n",
    "                recent = np.concatenate((recent, data[ri]), axis = 2) \n",
    "#             recent.append(data[di])\n",
    "            ri+=closeness_gap\n",
    "            \n",
    "#         distant = np.array(distant)\n",
    "#         print(distant.shape)\n",
    "        \n",
    "        training_point = np.concatenate((distant,near,recent), axis=2)\n",
    "#         print(training_point.shape)\n",
    "        shape = training_point.shape\n",
    "#         training_point = training_point.reshape((shape[1], shape[2], shape[0]*shape[3]))\n",
    "#         print(training_point.shape)\n",
    "        training_data_x.append(training_point)\n",
    "        training_data_y.append(data[ri])\n",
    "        di = di_old + 1\n",
    "        \n",
    "    return np.array(training_data_x), np.array(training_data_y)"
   ]
  },
  {
   "cell_type": "code",
   "execution_count": 12,
   "metadata": {},
   "outputs": [],
   "source": [
    "sequence_length = 4\n",
    "\n",
    "X_t, Y_t = get_training_data(data, sequence_length, 4, 2, 1)\n",
    "x_closeness = X_t[:,:,:,:sequence_length*2]\n",
    "x_period = X_t[:,:,:,sequence_length*2:2*sequence_length*2]\n",
    "x_trend = X_t[:,:,:,2*sequence_length*2:]\n",
    "\n",
    "model = st_resnet((32,32, 6*sequence_length), 12, 64, (3,3),np.min(Y_t, axis=0), np.max(Y_t, axis=0) )\n",
    "model.compile(optimizer='adam', loss='mean_squared_error', metrics= ['accuracy'])"
   ]
  },
  {
   "cell_type": "code",
   "execution_count": 13,
   "metadata": {
    "scrolled": true
   },
   "outputs": [
    {
     "name": "stdout",
     "output_type": "stream",
     "text": [
      "WARNING:tensorflow:From C:\\Users\\arpit\\.conda\\envs\\SMLProject\\lib\\site-packages\\keras\\backend\\tensorflow_backend.py:422: The name tf.global_variables is deprecated. Please use tf.compat.v1.global_variables instead.\n",
      "\n",
      "Epoch 1/1\n",
      " - 513s - loss: 1741.0267 - accuracy: 0.4662\n"
     ]
    }
   ],
   "source": [
    "model_history = model.fit([x_closeness,x_period,x_trend], Y_t, epochs = 1, batch_size = 32, verbose = 2)"
   ]
  },
  {
   "cell_type": "code",
   "execution_count": 14,
   "metadata": {},
   "outputs": [],
   "source": [
    "p = model.predict([np.array([X_t[5,:,:,:sequence_length*2]]), np.array([X_t[5,:,:,sequence_length*2:2*sequence_length*2]]),np.array([X_t[5,:,:,2*sequence_length*2:]])])"
   ]
  },
  {
   "cell_type": "code",
   "execution_count": 15,
   "metadata": {},
   "outputs": [
    {
     "data": {
      "text/plain": [
       "{'loss': [1741.0266541363442], 'accuracy': [0.46624705]}"
      ]
     },
     "execution_count": 15,
     "metadata": {},
     "output_type": "execute_result"
    }
   ],
   "source": [
    "model_history.history"
   ]
  },
  {
   "cell_type": "code",
   "execution_count": 16,
   "metadata": {},
   "outputs": [],
   "source": [
    "q = p.reshape((32,32,2))"
   ]
  },
  {
   "cell_type": "code",
   "execution_count": 17,
   "metadata": {},
   "outputs": [],
   "source": [
    "q_in = q[:,:,0]\n",
    "q_out = q[:,:,1]"
   ]
  },
  {
   "cell_type": "code",
   "execution_count": 18,
   "metadata": {
    "scrolled": false
   },
   "outputs": [
    {
     "data": {
      "image/png": "[encoded data removed]",
      "text/plain": [
       "<Figure size 432x288 with 2 Axes>"
      ]
     },
     "metadata": {},
     "output_type": "display_data"
    }
   ],
   "source": [
    "import seaborn as sns; \n",
    "sns.set()\n",
    "\n",
    "ax = sns.heatmap(q_in, cmap = \"RdYlGn_r\")\n",
    "# ax = sns.heatmap(q_out, cmap = \"RdYlGn_r\")"
   ]
  },
  {
   "cell_type": "code",
   "execution_count": 19,
   "metadata": {
    "scrolled": true
   },
   "outputs": [],
   "source": [
    "y_5_in = Y_t[5,:,:,0]\n",
    "y_5_out = Y_t[5,:,:,1]"
   ]
  },
  {
   "cell_type": "code",
   "execution_count": 20,
   "metadata": {
    "scrolled": false
   },
   "outputs": [
    {
     "data": {
      "image/png": "[encoded data removed]",
      "text/plain": [
       "<Figure size 432x288 with 2 Axes>"
      ]
     },
     "metadata": {},
     "output_type": "display_data"
    }
   ],
   "source": [
    "sns.set()\n",
    "\n",
    "# ax = sns.heatmap(y_5_in, cmap = \"RdYlGn_r\")\n",
    "ax = sns.heatmap(y_5_out, cmap = \"RdYlGn_r\")"
   ]
  },
  {
   "cell_type": "code",
   "execution_count": 21,
   "metadata": {
    "scrolled": true
   },
   "outputs": [],
   "source": [
    "x = np.loadtxt(\"..\\preprocessing\\\\right_block\\start\\\\20090101183000.txt\", delimiter=\",\")"
   ]
  },
  {
   "cell_type": "code",
   "execution_count": 28,
   "metadata": {},
   "outputs": [
    {
     "data": {
      "image/png": "[encoded data removed]",
      "text/plain": [
       "<Figure size 432x288 with 2 Axes>"
      ]
     },
     "metadata": {},
     "output_type": "display_data"
    }
   ],
   "source": [
    "ax = sns.heatmap(y_5_in, cmap = \"RdYlGn_r\")"
   ]
  },
  {
   "cell_type": "code",
   "execution_count": 25,
   "metadata": {},
   "outputs": [
    {
     "name": "stdout",
     "output_type": "stream",
     "text": [
      "1460/1460 [==============================] - 152s 104ms/step\n"
     ]
    },
    {
     "data": {
      "text/plain": [
       "[1035.9511902691568, 0.4699432849884033]"
      ]
     },
     "execution_count": 25,
     "metadata": {},
     "output_type": "execute_result"
    }
   ],
   "source": [
    "model.evaluate([x_closeness,x_period,x_trend], Y_t)"
   ]
  },
  {
   "cell_type": "code",
   "execution_count": 26,
   "metadata": {},
   "outputs": [
    {
     "data": {
      "text/plain": [
       "['loss', 'accuracy']"
      ]
     },
     "execution_count": 26,
     "metadata": {},
     "output_type": "execute_result"
    }
   ],
   "source": [
    "model.metrics_names"
   ]
  },
  {
   "cell_type": "code",
   "execution_count": null,
   "metadata": {},
   "outputs": [],
   "source": []
  }
 ],
 "metadata": {
  "kernelspec": {
   "display_name": "Python 3",
   "language": "python",
   "name": "python3"
  },
  "language_info": {
   "codemirror_mode": {
    "name": "ipython",
    "version": 3
   },
   "file_extension": ".py",
   "mimetype": "text/x-python",
   "name": "python",
   "nbconvert_exporter": "python",
   "pygments_lexer": "ipython3",
   "version": "3.7.9"
  }
 },
 "nbformat": 4,
 "nbformat_minor": 2
}
